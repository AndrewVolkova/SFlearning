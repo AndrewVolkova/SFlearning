{
 "cells": [
  {
   "cell_type": "code",
   "execution_count": null,
   "metadata": {},
   "outputs": [],
   "source": [
    "def location_by_adress(adress, coordinates='both'):\n",
    "    \"\"\"Функции получения координат по адрессу\n",
    "\n",
    "    Args:\n",
    "        adress (string): Адресс\n",
    "    \n",
    "    Parameters: \n",
    "        coordinates: {'both', 'lat', 'long'}, default 'both'\n",
    "            'both' - возвращает обе координаты,\n",
    "            'lat' - возвращает широту\n",
    "            'long' - возвращает долготу \n",
    "    \n",
    "    Returns:\n",
    "        lat, long: широта и долгота. \n",
    "    \"\"\"\n",
    "\n",
    "    from geopy.geocoders import Nominatim #Подключаем библиотеку\n",
    "    \n",
    "    geolocator = Nominatim(user_agent=\"Tester\") #Указываем название приложения (так нужно, да)\n",
    "    location = geolocator.geocode(adress) #Создаем переменную, которая состоит из нужного нам адреса\n",
    "    \n",
    "    if coordinates == 'both':\n",
    "        return location.latitude, location.longitude\n",
    "    if coordinates == 'lat':\n",
    "        return location.latitude\n",
    "    if coordinates == 'long':\n",
    "        return location.longitude"
   ]
  }
 ],
 "metadata": {
  "kernelspec": {
   "display_name": "Python 3",
   "language": "python",
   "name": "python3"
  },
  "language_info": {
   "name": "python",
   "version": "3.9.11 (tags/v3.9.11:2de452f, Mar 16 2022, 14:33:45) [MSC v.1929 64 bit (AMD64)]"
  },
  "orig_nbformat": 4,
  "vscode": {
   "interpreter": {
    "hash": "bb140da321b83311fb75958ccf448eaa5e1315a37aae6922eb14832d9fa51797"
   }
  }
 },
 "nbformat": 4,
 "nbformat_minor": 2
}

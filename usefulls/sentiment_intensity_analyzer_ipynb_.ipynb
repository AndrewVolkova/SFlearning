{
  "nbformat": 4,
  "nbformat_minor": 0,
  "metadata": {
    "colab": {
      "provenance": []
    },
    "kernelspec": {
      "name": "python3",
      "display_name": "Python 3"
    },
    "language_info": {
      "name": "python"
    }
  },
  "cells": [
    {
      "cell_type": "code",
      "execution_count": null,
      "metadata": {
        "colab": {
          "base_uri": "https://localhost:8080/"
        },
        "id": "jn_ZfWFZy_Fh",
        "outputId": "a263b06b-d232-44cb-9c69-16205a890ede"
      },
      "outputs": [
        {
          "output_type": "stream",
          "name": "stdout",
          "text": [
            "review 1:\n",
            "The hotel was very good, I love it!\n",
            "Score: {'neg': 0.0, 'neu': 0.386, 'pos': 0.614, 'compound': 0.8386}\n",
            "\n",
            "review 2:\n",
            "It was just horrible, the worst ever.\n",
            "Score: {'neg': 0.603, 'neu': 0.397, 'pos': 0.0, 'compound': -0.8225}\n"
          ]
        },
        {
          "output_type": "stream",
          "name": "stderr",
          "text": [
            "[nltk_data] Downloading package vader_lexicon to /root/nltk_data...\n",
            "[nltk_data]   Package vader_lexicon is already up-to-date!\n"
          ]
        }
      ],
      "source": [
        "import nltk\n",
        "from nltk.sentiment.vader import SentimentIntensityAnalyzer\n",
        "import time\n",
        "nltk.downloader.download('vader_lexicon')\n",
        "\n",
        "sent_analyzer = SentimentIntensityAnalyzer()\n",
        "\n",
        "rev1 = \"The hotel was very good, I love it!\"\n",
        "rev2 = \"It was just horrible, the worst ever.\"\n",
        "\n",
        "print(f\"review 1:\\n{rev1}\\nScore: {sent_analyzer.polarity_scores(rev1)}\")\n",
        "\n",
        "print(f\"\\nreview 2:\\n{rev2}\\nScore: {sent_analyzer.polarity_scores(rev2)}\")"
      ]
    }
  ]
}